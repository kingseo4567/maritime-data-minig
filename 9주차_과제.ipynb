{
  "nbformat": 4,
  "nbformat_minor": 0,
  "metadata": {
    "colab": {
      "provenance": [],
      "authorship_tag": "ABX9TyOLJYXbAxPHvxvRm0TtLof0",
      "include_colab_link": true
    },
    "kernelspec": {
      "name": "python3",
      "display_name": "Python 3"
    },
    "language_info": {
      "name": "python"
    }
  },
  "cells": [
    {
      "cell_type": "markdown",
      "metadata": {
        "id": "view-in-github",
        "colab_type": "text"
      },
      "source": [
        "<a href=\"https://colab.research.google.com/github/kingseo4567/maritime-data-minig/blob/main/9%EC%A3%BC%EC%B0%A8_%EA%B3%BC%EC%A0%9C.ipynb\" target=\"_parent\"><img src=\"https://colab.research.google.com/assets/colab-badge.svg\" alt=\"Open In Colab\"/></a>"
      ]
    },
    {
      "cell_type": "code",
      "execution_count": 3,
      "metadata": {
        "id": "89WGAUL71NEP"
      },
      "outputs": [],
      "source": [
        "#9주차 과제\n",
        "#BEAUTIFULSOUP와 REQUESTS로 웹 파싱해보기\n",
        "import requests\n",
        "from bs4 import BeautifulSoup as bs\n",
        "import pandas as pd\n",
        "\n",
        "page = requests.get(\"https://library.gabia.com/\")\n",
        "soup = bs(page.text, \"html.parser\")\n",
        "\n",
        "elements = soup.select('div.esg-entry-content a.eg-grant-element-0')\n",
        "\n",
        "titles = []\n",
        "links = []\n",
        "for index, element in enumerate(elements, 1):\n",
        "        titles.append(element.text)\n",
        "        links.append(element.attrs['href'])\n",
        "\n",
        "\n",
        "df = pd.DataFrame()\n",
        "df['titles'] = titles\n",
        "df['links'] = links\n",
        "\n",
        "df.to_excel('./library_gabia.xlsx', sheet_name='Sheet1')"
      ]
    }
  ]
}