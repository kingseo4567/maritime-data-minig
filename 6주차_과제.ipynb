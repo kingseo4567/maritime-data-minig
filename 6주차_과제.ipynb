{
  "nbformat": 4,
  "nbformat_minor": 0,
  "metadata": {
    "colab": {
      "provenance": [],
      "authorship_tag": "ABX9TyMWCISBZQWnix1tXM/R0FF8",
      "include_colab_link": true
    },
    "kernelspec": {
      "name": "python3",
      "display_name": "Python 3"
    },
    "language_info": {
      "name": "python"
    }
  },
  "cells": [
    {
      "cell_type": "markdown",
      "metadata": {
        "id": "view-in-github",
        "colab_type": "text"
      },
      "source": [
        "<a href=\"https://colab.research.google.com/github/kingseo4567/maritime-data-minig/blob/main/6%EC%A3%BC%EC%B0%A8_%EA%B3%BC%EC%A0%9C.ipynb\" target=\"_parent\"><img src=\"https://colab.research.google.com/assets/colab-badge.svg\" alt=\"Open In Colab\"/></a>"
      ]
    },
    {
      "cell_type": "code",
      "source": [
        "#과제 6-1\n",
        "#json 파일을 dataframe으로 변환생성\n",
        "\n",
        "import pandas as pd\n",
        "import json\n",
        "\n",
        "# JSON 파일 경로\n",
        "json_file_path = \"/content/jsonData/custom.json\"\n",
        "\n",
        "# JSON 파일 읽기\n",
        "with open(json_file_path, 'r', encoding='utf-8') as f:\n",
        "    json_data = json.load(f)\n",
        "\n",
        "# JSON 데이터를 Pandas DataFrame으로 변환\n",
        "df = pd.DataFrame(json_data)\n",
        "\n",
        "# DataFrame 정보 출력\n",
        "print(df.info())\n",
        "\n",
        "# DataFrame 상위 5개 행 출력\n",
        "print(df.head())"
      ],
      "metadata": {
        "colab": {
          "base_uri": "https://localhost:8080/"
        },
        "id": "jvsPWfVXw2Ro",
        "outputId": "08567c22-4d5f-4293-a70a-09bfc05f6fc9"
      },
      "execution_count": 20,
      "outputs": [
        {
          "output_type": "stream",
          "name": "stdout",
          "text": [
            "<class 'pandas.core.frame.DataFrame'>\n",
            "RangeIndex: 2 entries, 0 to 1\n",
            "Data columns (total 5 columns):\n",
            " #   Column   Non-Null Count  Dtype \n",
            "---  ------   --------------  ----- \n",
            " 0   id       2 non-null      int64 \n",
            " 1   name     2 non-null      object\n",
            " 2   email    2 non-null      object\n",
            " 3   phone    2 non-null      object\n",
            " 4   address  2 non-null      object\n",
            "dtypes: int64(1), object(4)\n",
            "memory usage: 212.0+ bytes\n",
            "None\n",
            "   id name             email             phone  \\\n",
            "0   1  홍길동  hong@example.com  +82-10-1234-5678   \n",
            "1   2  김철수   kim@example.com  +82-10-8765-4321   \n",
            "\n",
            "                             address  \n",
            "0  {'city': '서울', 'country': '대한민국'}  \n",
            "1  {'city': '부산', 'country': '대한민국'}  \n"
          ]
        }
      ]
    },
    {
      "cell_type": "code",
      "execution_count": 19,
      "metadata": {
        "colab": {
          "base_uri": "https://localhost:8080/"
        },
        "id": "gne0xj5so8CU",
        "outputId": "fbfa3b47-807e-4e81-917e-7cc6ba1494a0"
      },
      "outputs": [
        {
          "output_type": "stream",
          "name": "stdout",
          "text": [
            "<class 'pandas.core.frame.DataFrame'>\n",
            "RangeIndex: 3 entries, 0 to 2\n",
            "Data columns (total 4 columns):\n",
            " #   Column  Non-Null Count  Dtype  \n",
            "---  ------  --------------  -----  \n",
            " 0   title   3 non-null      object \n",
            " 1   author  3 non-null      object \n",
            " 2   price   3 non-null      float64\n",
            " 3   genre   3 non-null      object \n",
            "dtypes: float64(1), object(3)\n",
            "memory usage: 228.0+ bytes\n",
            "None\n",
            "                   title          author  price    genre\n",
            "0    Pride and Prejudice     Jane Austen  19.99  romance\n",
            "1  To Kill a Mockingbird      Harper Lee  14.99  fiction\n",
            "2  The Lord of the Rings  J.R.R. Tolkien  34.99  fantasy\n"
          ]
        },
        {
          "output_type": "stream",
          "name": "stderr",
          "text": [
            "<ipython-input-19-a897477263cd>:31: FutureWarning: The behavior of DataFrame concatenation with empty or all-NA entries is deprecated. In a future version, this will no longer exclude empty or all-NA columns when determining the result dtypes. To retain the old behavior, exclude the relevant entries before the concat operation.\n",
            "  df = pd.concat([df, new_df], ignore_index=True)\n"
          ]
        }
      ],
      "source": [
        "#과제 6-2\n",
        "#xml파일을 dataframe으로 변환생\n",
        "\n",
        "import pandas as pd\n",
        "import xml.etree.ElementTree as ET\n",
        "\n",
        "# XML 파일 경로\n",
        "xml_file_path = \"/content/xmlData/book.xml\"  # 로컬에 저장된 XML 파일 경로\n",
        "\n",
        "# XML 파일 읽기\n",
        "tree = ET.parse(xml_file_path)\n",
        "\n",
        "# 루트 요소 가져오기\n",
        "root = tree.getroot()\n",
        "\n",
        "# 특정 요소 목록 가져오기\n",
        "elements = root.findall('.//book')\n",
        "\n",
        "# DataFrame 생성\n",
        "df = pd.DataFrame(columns=['title', 'author', 'price', 'genre'])\n",
        "\n",
        "# 각 요소를 DataFrame에 추가\n",
        "for element in elements:\n",
        "    row = {\n",
        "        'title': element.find('title').text,\n",
        "        'author': element.find('author').text,\n",
        "        'genre': element.find('genre').text,\n",
        "        'price': float(element.find('price').text),\n",
        "    }\n",
        "    new_df = pd.DataFrame([row], columns=df.columns)\n",
        "    df = pd.concat([df, new_df], ignore_index=True)\n",
        "\n",
        "# DataFrame 정보 출력\n",
        "print(df.info())\n",
        "\n",
        "# DataFrame 상위 4개 행 출력\n",
        "print(df.head())\n"
      ]
    }
  ]
}