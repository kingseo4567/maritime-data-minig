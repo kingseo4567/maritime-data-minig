{
  "nbformat": 4,
  "nbformat_minor": 0,
  "metadata": {
    "colab": {
      "provenance": [],
      "authorship_tag": "ABX9TyP8MlEyR3PPtQxmDgBwTfUS",
      "include_colab_link": true
    },
    "kernelspec": {
      "name": "python3",
      "display_name": "Python 3"
    },
    "language_info": {
      "name": "python"
    }
  },
  "cells": [
    {
      "cell_type": "markdown",
      "metadata": {
        "id": "view-in-github",
        "colab_type": "text"
      },
      "source": [
        "<a href=\"https://colab.research.google.com/github/kingseo4567/maritime-data-minig/blob/main/3%EC%A3%BC%EC%B0%A8_%EA%B3%BC%EC%A0%9C_3.ipynb\" target=\"_parent\"><img src=\"https://colab.research.google.com/assets/colab-badge.svg\" alt=\"Open In Colab\"/></a>"
      ]
    },
    {
      "cell_type": "code",
      "execution_count": 1,
      "metadata": {
        "colab": {
          "base_uri": "https://localhost:8080/"
        },
        "id": "o1RkiiIuKCd0",
        "outputId": "8111cda9-661c-43a0-eea2-bc4bab346807"
      },
      "outputs": [
        {
          "output_type": "stream",
          "name": "stdout",
          "text": [
            "Americano        가격 : 3,000원\n",
            "Ice Americano    가격 : 3,500원\n",
            "Cappuccino       가격 : 4,000원\n",
            "Cafe Latte       가격 : 4,500원\n",
            "Espresso         가격 : 3,600원\n"
          ]
        }
      ],
      "source": [
        "# 과제 3-1\n",
        "# 딕셔너리 사용\n",
        "\n",
        "menu = {\n",
        "    \"Americano\": 3000,\n",
        "    \"Ice Americano\": 3500,\n",
        "    \"Cappuccino\": 4000,\n",
        "    \"Cafe Latte\": 4500,\n",
        "    \"Espresso\": 3600\n",
        "}\n",
        "\n",
        "# 메뉴 출력\n",
        "for key in menu:\n",
        "    print(\"{:16s} 가격 : {:,}원\".format(key, menu[key]))"
      ]
    }
  ]
}