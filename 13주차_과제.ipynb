{
  "nbformat": 4,
  "nbformat_minor": 0,
  "metadata": {
    "colab": {
      "provenance": [],
      "authorship_tag": "ABX9TyPWt+mMxvX8kjKz2n0jk5l3",
      "include_colab_link": true
    },
    "kernelspec": {
      "name": "python3",
      "display_name": "Python 3"
    },
    "language_info": {
      "name": "python"
    }
  },
  "cells": [
    {
      "cell_type": "markdown",
      "metadata": {
        "id": "view-in-github",
        "colab_type": "text"
      },
      "source": [
        "<a href=\"https://colab.research.google.com/github/kingseo4567/maritime-data-minig/blob/main/13%EC%A3%BC%EC%B0%A8_%EA%B3%BC%EC%A0%9C.ipynb\" target=\"_parent\"><img src=\"https://colab.research.google.com/assets/colab-badge.svg\" alt=\"Open In Colab\"/></a>"
      ]
    },
    {
      "cell_type": "code",
      "execution_count": 13,
      "metadata": {
        "colab": {
          "base_uri": "https://localhost:8080/",
          "height": 1000
        },
        "id": "p0LlTPbGZjQr",
        "outputId": "d983d9e1-4aba-4c8e-95e6-fc72828f7fae"
      },
      "outputs": [
        {
          "output_type": "display_data",
          "data": {
            "text/plain": [
              "<IPython.lib.display.IFrame at 0x794f3fc30450>"
            ],
            "text/html": [
              "\n",
              "        <iframe\n",
              "            width=\"700\"\n",
              "            height=\"500\"\n",
              "            src=\"morning_commute_out.html\"\n",
              "            frameborder=\"0\"\n",
              "            allowfullscreen\n",
              "            \n",
              "        ></iframe>\n",
              "        "
            ]
          },
          "metadata": {}
        },
        {
          "output_type": "display_data",
          "data": {
            "text/plain": [
              "<IPython.lib.display.IFrame at 0x794f3f98a710>"
            ],
            "text/html": [
              "\n",
              "        <iframe\n",
              "            width=\"700\"\n",
              "            height=\"500\"\n",
              "            src=\"evening_commute_in.html\"\n",
              "            frameborder=\"0\"\n",
              "            allowfullscreen\n",
              "            \n",
              "        ></iframe>\n",
              "        "
            ]
          },
          "metadata": {}
        }
      ],
      "source": [
        "#13주차 과제\n",
        "#서울 지하철 유동인구 분석- 지도 라이브러리 Folium\n",
        "\n",
        "import pandas as pd\n",
        "import folium\n",
        "from folium.plugins import HeatMap\n",
        "from IPython.display import IFrame\n",
        "\n",
        "# 1. 파일 경로\n",
        "log_path = \"seoul-metro-2021.logs.csv\"\n",
        "info_path = \"seoul-metro-station-info.csv\"\n",
        "\n",
        "# 2. 데이터 로드\n",
        "log_df = pd.read_csv(log_path)\n",
        "station_df = pd.read_csv(info_path)\n",
        "\n",
        "# 3. 시간 형식 변환\n",
        "log_df['timestamp'] = pd.to_datetime(log_df['timestamp'], errors='coerce')\n",
        "\n",
        "# 4. 출근/퇴근 시간 필터링\n",
        "morning_df = log_df[log_df['timestamp'].dt.hour < 9]     # 출근 (9시 이전)\n",
        "evening_df = log_df[log_df['timestamp'].dt.hour >= 17]   # 퇴근 (17시 이후)\n",
        "\n",
        "# 5. 인원 집계\n",
        "morning_grouped = morning_df.groupby('station_code')[['people_in', 'people_out']].sum()\n",
        "evening_grouped = evening_df.groupby('station_code')[['people_in', 'people_out']].sum()\n",
        "\n",
        "# 6. 역 정보 준비\n",
        "station_info = station_df[['station.code', 'geo.latitude', 'geo.longitude']].set_index('station.code')\n",
        "\n",
        "# 7. 병합\n",
        "morning_joined = morning_grouped.join(station_info, how='inner')\n",
        "evening_joined = evening_grouped.join(station_info, how='inner')\n",
        "\n",
        "# 8. 지도 생성\n",
        "morning_map = folium.Map(location=[37.55, 126.98], zoom_start=12)\n",
        "evening_map = folium.Map(location=[37.55, 126.98], zoom_start=12)\n",
        "\n",
        "# 9. 히트맵 추가 (출근: 하차, 퇴근: 승차)\n",
        "HeatMap(data=morning_joined[['geo.latitude', 'geo.longitude', 'people_out']]).add_to(morning_map)\n",
        "HeatMap(data=evening_joined[['geo.latitude', 'geo.longitude', 'people_in']]).add_to(evening_map)\n",
        "\n",
        "# 10. HTML로 저장\n",
        "morning_map.save(\"morning_commute_out.html\")\n",
        "evening_map.save(\"evening_commute_in.html\")\n",
        "\n",
        "# 11. Colab에서 동시에 보기\n",
        "display(IFrame(\"morning_commute_out.html\", width=700, height=500))\n",
        "display(IFrame(\"evening_commute_in.html\", width=700, height=500))\n"
      ]
    }
  ]
}