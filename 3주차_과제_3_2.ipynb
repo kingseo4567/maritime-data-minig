{
  "nbformat": 4,
  "nbformat_minor": 0,
  "metadata": {
    "colab": {
      "provenance": [],
      "authorship_tag": "ABX9TyN5w8rO0jMazVYoMTgYsfOC",
      "include_colab_link": true
    },
    "kernelspec": {
      "name": "python3",
      "display_name": "Python 3"
    },
    "language_info": {
      "name": "python"
    }
  },
  "cells": [
    {
      "cell_type": "markdown",
      "metadata": {
        "id": "view-in-github",
        "colab_type": "text"
      },
      "source": [
        "<a href=\"https://colab.research.google.com/github/kingseo4567/maritime-data-minig/blob/main/3%EC%A3%BC%EC%B0%A8_%EA%B3%BC%EC%A0%9C_3_2.ipynb\" target=\"_parent\"><img src=\"https://colab.research.google.com/assets/colab-badge.svg\" alt=\"Open In Colab\"/></a>"
      ]
    },
    {
      "cell_type": "code",
      "execution_count": 2,
      "metadata": {
        "colab": {
          "base_uri": "https://localhost:8080/"
        },
        "id": "YIDeUeizLmV4",
        "outputId": "3efc16bf-0029-4e92-d76f-8749bee914cc"
      },
      "outputs": [
        {
          "output_type": "stream",
          "name": "stdout",
          "text": [
            "Americano        가격 : 3,000원\n",
            "Ice Americano    가격 : 3,500원\n",
            "Cappuccino       가격 : 4,000원\n",
            "Cafe Latte       가격 : 4,500원\n",
            "Espresso         가격 : 3,600원\n",
            "위의 메뉴중 하나를 선택하세요: fan cake\n",
            "미안합니다. fan cake는 메뉴에 없습니다.\n"
          ]
        }
      ],
      "source": [
        "# 과제 3-2\n",
        "# 딕셔너리 활용하기\n",
        "# 커피 메뉴 딕셔너리 작성\n",
        "menu = {\n",
        "    \"Americano\": 3000,\n",
        "    \"Ice Americano\": 3500,\n",
        "    \"Cappuccino\": 4000,\n",
        "    \"Cafe Latte\": 4500,\n",
        "    \"Espresso\": 3600\n",
        "}\n",
        "\n",
        "# 메뉴 출력\n",
        "for key in menu:\n",
        "    print(\"{:16s} 가격 : {:,}원\".format(key, menu[key]))\n",
        "\n",
        "# 사용자 주문 받기\n",
        "choice = input(\"위의 메뉴중 하나를 선택하세요: \")\n",
        "if choice in menu.keys():\n",
        "    print(\"{}는 {:,}원 입니다. 결제를 부탁합니다.\".format(choice, menu[choice]))\n",
        "else:\n",
        "    print(\"미안합니다. {}는 메뉴에 없습니다.\".format(choice))"
      ]
    }
  ]
}