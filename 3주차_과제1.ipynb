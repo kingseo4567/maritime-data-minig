{
  "nbformat": 4,
  "nbformat_minor": 0,
  "metadata": {
    "colab": {
      "provenance": [],
      "mount_file_id": "19PGqZOzkKPsZSoKyPeHS6rmPYq_RgXkF",
      "authorship_tag": "ABX9TyN5KHUZHAtg5haG6EWr1VmF",
      "include_colab_link": true
    },
    "kernelspec": {
      "name": "python3",
      "display_name": "Python 3"
    },
    "language_info": {
      "name": "python"
    }
  },
  "cells": [
    {
      "cell_type": "markdown",
      "metadata": {
        "id": "view-in-github",
        "colab_type": "text"
      },
      "source": [
        "<a href=\"https://colab.research.google.com/github/kingseo4567/maritime-data-minig/blob/main/3%EC%A3%BC%EC%B0%A8_%EA%B3%BC%EC%A0%9C1.ipynb\" target=\"_parent\"><img src=\"https://colab.research.google.com/assets/colab-badge.svg\" alt=\"Open In Colab\"/></a>"
      ]
    },
    {
      "cell_type": "code",
      "execution_count": null,
      "metadata": {
        "colab": {
          "base_uri": "https://localhost:8080/"
        },
        "id": "O9MSewKe93xB",
        "outputId": "28706c15-6d95-465d-b7bf-94046bd5945a"
      },
      "outputs": [
        {
          "output_type": "stream",
          "name": "stdout",
          "text": [
            "a = [2, 3, 4, 5, 6]\n",
            "rev_a = [6, 5, 4, 3, 2]\n"
          ]
        }
      ],
      "source": [
        "# 과제 1\n",
        "# 리스트와 for문을 이용한 list 조작하기\n",
        "a = [2, 3, 4, 5, 6]\n",
        "print(\"a =\", a)  # 첫번째 리스트 출력\n",
        "\n",
        "rev_a = []\n",
        "\n",
        "# pop()과 for-in문을 이용한 순서 바꾸기\n",
        "for _ in range(len(a)):\n",
        "    rev_a.append(a.pop())\n",
        "\n",
        "print(\"rev_a =\", rev_a)  # 두번째 리스트 출력\n"
      ]
    }
  ]
}