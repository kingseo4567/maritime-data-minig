{
  "nbformat": 4,
  "nbformat_minor": 0,
  "metadata": {
    "colab": {
      "provenance": [],
      "authorship_tag": "ABX9TyNfHp2cFr/ByMQSN+ji0ONq",
      "include_colab_link": true
    },
    "kernelspec": {
      "name": "python3",
      "display_name": "Python 3"
    },
    "language_info": {
      "name": "python"
    }
  },
  "cells": [
    {
      "cell_type": "markdown",
      "metadata": {
        "id": "view-in-github",
        "colab_type": "text"
      },
      "source": [
        "<a href=\"https://colab.research.google.com/github/kingseo4567/maritime-data-minig/blob/main/3%EC%A3%BC%EC%B0%A8_%EA%B3%BC%EC%A0%9C_2.ipynb\" target=\"_parent\"><img src=\"https://colab.research.google.com/assets/colab-badge.svg\" alt=\"Open In Colab\"/></a>"
      ]
    },
    {
      "cell_type": "code",
      "execution_count": 4,
      "metadata": {
        "colab": {
          "base_uri": "https://localhost:8080/"
        },
        "id": "4pPtEg27G-aN",
        "outputId": "1e9eba10-cfcc-4c58-a9dc-f0ff451585f6"
      },
      "outputs": [
        {
          "output_type": "stream",
          "name": "stdout",
          "text": [
            "주어진 튜플은: (1, 2, 5, 4, 3, 2, 1, 4, 7, 8, 9, 9, 3, 7, 3)\n",
            "가장 많이 나타나는 원소는: 3\n",
            "주어진 튜플은: (1, 2, 5, 4, 3, 2, 9, 4, 7, 8, 9, 9, 3, 7, 3)\n",
            "가장 많이 나타나는 원소는: 9\n"
          ]
        }
      ],
      "source": [
        "#과제 2\n",
        "# tuple 활용하기\n",
        "tup = (1, 2, 5, 4, 3, 2, 1, 4, 7, 8, 9, 9, 3, 7, 3)\n",
        "print('주어진 튜플은:', tup)\n",
        "\n",
        "# 튜플을 리스트로 변환 후 정렬\n",
        "temp = sorted(list(tup))\n",
        "\n",
        "# 힌트\n",
        "max_count = 1\n",
        "count = 1\n",
        "cur_value = max_value = temp[0]\n",
        "\n",
        "for i in range(1, len(temp)):\n",
        "    if temp[i] is cur_value:\n",
        "        count += 1\n",
        "        if count >= max_count:\n",
        "            max_count = count\n",
        "            max_value = cur_value\n",
        "    else:\n",
        "        cur_value = temp[i]\n",
        "        count = 1\n",
        "\n",
        "print('가장 많이 나타나는 원소는:', max_value)\n",
        "\n",
        "# 혹은 3과 9가 각각 3회 나타나는 다음의 경우:\n",
        "tup = (1, 2, 5, 4, 3, 2, 9, 4, 7, 8, 9, 9, 3, 7, 3)\n",
        "print('주어진 튜플은:', tup)\n",
        "\n",
        "temp = sorted(list(tup))\n",
        "\n",
        "max_count = 1\n",
        "count = 1\n",
        "cur_value = max_value = temp[0]\n",
        "\n",
        "for i in range(1, len(temp)):\n",
        "    if temp[i] is cur_value:\n",
        "        count += 1\n",
        "        if count >= max_count:\n",
        "            max_count = count\n",
        "            max_value = cur_value\n",
        "    else:\n",
        "        cur_value = temp[i]\n",
        "        count = 1\n",
        "\n",
        "print('가장 많이 나타나는 원소는:', max_value)\n",
        "\n"
      ]
    }
  ]
}